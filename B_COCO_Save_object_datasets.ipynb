{
  "nbformat": 4,
  "nbformat_minor": 0,
  "metadata": {
    "colab": {
      "name": "B_COCO_Save_object_datasets.ipynb",
      "provenance": [],
      "collapsed_sections": [],
      "authorship_tag": "ABX9TyNdYwL4dZ5EA9oX42T/7Z82",
      "include_colab_link": true
    },
    "kernelspec": {
      "name": "python3",
      "display_name": "Python 3"
    },
    "language_info": {
      "name": "python"
    }
  },
  "cells": [
    {
      "cell_type": "markdown",
      "metadata": {
        "id": "view-in-github",
        "colab_type": "text"
      },
      "source": [
        "<a href=\"https://colab.research.google.com/github/truc-h-nguyen/Toddler-activity-suggestions/blob/main/B_COCO_Save_object_datasets.ipynb\" target=\"_parent\"><img src=\"https://colab.research.google.com/assets/colab-badge.svg\" alt=\"Open In Colab\"/></a>"
      ]
    },
    {
      "cell_type": "markdown",
      "metadata": {
        "id": "YB8n12ila6WH"
      },
      "source": [
        "**B. SAVE OBJECT DATASETS:**\n",
        "\n",
        "For example, we save an object such that bowls and teddy bears into separate datasets. \n",
        "\n",
        "That dataset consists of images and annotations of the objects."
      ]
    },
    {
      "cell_type": "code",
      "metadata": {
        "id": "zn_IKHSLH5ip"
      },
      "source": [
        "!pip install fiftyone"
      ],
      "execution_count": null,
      "outputs": []
    },
    {
      "cell_type": "code",
      "metadata": {
        "id": "aFITXYmoU-tp"
      },
      "source": [
        "import fiftyone.zoo as foz"
      ],
      "execution_count": null,
      "outputs": []
    },
    {
      "cell_type": "code",
      "metadata": {
        "id": "nHtjdQOIUs-0"
      },
      "source": [
        "dataset = foz.download_zoo_dataset(\n",
        "    \"coco-2017\",\n",
        "    split=\"train\",\n",
        "    label_types=[\"detections\", \"segmentations\"],\n",
        "    classes=[\"bowl\"],\n",
        "    max_samples=20,\n",
        ")"
      ],
      "execution_count": null,
      "outputs": []
    },
    {
      "cell_type": "code",
      "metadata": {
        "id": "OyRpO5XWatZD"
      },
      "source": [
        "dataset_2 = foz.download_zoo_dataset(\n",
        "    \"coco-2017\",\n",
        "    split=\"train\",\n",
        "    label_types=[\"detections\", \"segmentations\"],\n",
        "    classes=[\"teddy bear\"],\n",
        "    max_samples=20,\n",
        ")"
      ],
      "execution_count": null,
      "outputs": []
    },
    {
      "cell_type": "code",
      "metadata": {
        "id": "Fh45eDsMIUPC"
      },
      "source": [
        "dataset_3 = foz.load_zoo_dataset(\n",
        "    \"coco-2017\",\n",
        "    split=\"train\",\n",
        "    label_types=[\"detections\", \"segmentations\"],\n",
        "    classes=[\"umbrella\"],\n",
        "    max_samples=20,\n",
        ")"
      ],
      "execution_count": null,
      "outputs": []
    },
    {
      "cell_type": "code",
      "metadata": {
        "id": "nULo6rxGIZzY"
      },
      "source": [
        "dataset_4 = foz.load_zoo_dataset(\n",
        "    \"coco-2017\",\n",
        "    split=\"train\",\n",
        "    label_types=[\"detections\", \"segmentations\"],\n",
        "    classes=[\"spoon\"],\n",
        "    max_samples=20,\n",
        ")"
      ],
      "execution_count": null,
      "outputs": []
    },
    {
      "cell_type": "code",
      "metadata": {
        "id": "H0gLbp_LIdpL"
      },
      "source": [
        "dataset_5 = foz.load_zoo_dataset(\n",
        "    \"coco-2017\",\n",
        "    split=\"train\",\n",
        "    label_types=[\"detections\", \"segmentations\"],\n",
        "    classes=[\"apple\"],\n",
        "    max_samples=20,\n",
        ")"
      ],
      "execution_count": null,
      "outputs": []
    },
    {
      "cell_type": "code",
      "metadata": {
        "id": "yRUcpcxIOOIf"
      },
      "source": [
        "!zip -r /root/fiftyone/coco-2017/train/apple_train.zip /root/fiftyone/coco-2017/train/data\n",
        "!zip -r /root/fiftyone/coco-2017/train/bowl_train.zip /root/fiftyone/coco-2017/train/data\n",
        "!zip -r /root/fiftyone/coco-2017/train/spoon_train.zip /root/fiftyone/coco-2017/train/data\n",
        "!zip -r /root/fiftyone/coco-2017/train/umbrella_train.zip /root/fiftyone/coco-2017/train/data\n",
        "!zip -r /root/fiftyone/coco-2017/train/teddy_bear_train.zip /root/fiftyone/coco-2017/train/data"
      ],
      "execution_count": null,
      "outputs": []
    }
  ]
}