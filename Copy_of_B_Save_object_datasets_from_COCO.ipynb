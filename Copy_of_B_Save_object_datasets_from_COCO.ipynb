{
  "nbformat": 4,
  "nbformat_minor": 0,
  "metadata": {
    "colab": {
      "name": "Copy of B_Save_object_datasets_from_COCO.ipynb",
      "provenance": [],
      "collapsed_sections": [],
      "authorship_tag": "ABX9TyNsWuwReUwPavbfd9m+1pcM",
      "include_colab_link": true
    },
    "kernelspec": {
      "name": "python3",
      "display_name": "Python 3"
    },
    "language_info": {
      "name": "python"
    }
  },
  "cells": [
    {
      "cell_type": "markdown",
      "metadata": {
        "id": "view-in-github",
        "colab_type": "text"
      },
      "source": [
        "<a href=\"https://colab.research.google.com/github/truc-h-nguyen/Toddler-activity-suggestions/blob/main/Copy_of_B_Save_object_datasets_from_COCO.ipynb\" target=\"_parent\"><img src=\"https://colab.research.google.com/assets/colab-badge.svg\" alt=\"Open In Colab\"/></a>"
      ]
    },
    {
      "cell_type": "markdown",
      "metadata": {
        "id": "YB8n12ila6WH"
      },
      "source": [
        "**B. SAVE OBJECT DATASETS:**\n",
        "\n",
        "For example, we save an object such that bowls and teddy bears into separate datasets. \n",
        "\n",
        "That dataset consists of images and annotations of the objects."
      ]
    },
    {
      "cell_type": "code",
      "metadata": {
        "id": "YEmo_BpHV4-g"
      },
      "source": [
        "import cv2\n",
        "import matplotlib as plt\n",
        "import numpy as np"
      ],
      "execution_count": null,
      "outputs": []
    },
    {
      "cell_type": "code",
      "metadata": {
        "id": "zn_IKHSLH5ip"
      },
      "source": [
        "!pip install fiftyone"
      ],
      "execution_count": null,
      "outputs": []
    },
    {
      "cell_type": "code",
      "metadata": {
        "id": "aFITXYmoU-tp"
      },
      "source": [
        "import fiftyone.zoo as foz"
      ],
      "execution_count": null,
      "outputs": []
    },
    {
      "cell_type": "code",
      "metadata": {
        "colab": {
          "base_uri": "https://localhost:8080/"
        },
        "id": "OhecmkyHSjeF",
        "outputId": "5b1d8bcf-d7c9-4a8a-8ccb-9ab5e9aa4d1f"
      },
      "source": [
        "#Dwnload the COCO dataset for the \"bowl\" class\n",
        "#Train set\n",
        "dataset = foz.load_zoo_dataset(\n",
        "    \"coco-2017\",\n",
        "    split=\"train\",\n",
        "    label_types=[\"detections\", \"segmentations\"],\n",
        "    classes=[\"bowl\"],\n",
        "    max_samples=2000,\n",
        ")"
      ],
      "execution_count": null,
      "outputs": [
        {
          "output_type": "stream",
          "name": "stdout",
          "text": [
            "Downloading split 'train' to '/root/fiftyone/coco-2017/train' if necessary\n",
            "Downloading annotations to '/root/fiftyone/coco-2017/tmp-download/annotations_trainval2017.zip'\n",
            " 100% |██████|    1.9Gb/1.9Gb [3.0s elapsed, 0s remaining, 448.7Mb/s]       \n",
            "Extracting annotations to '/root/fiftyone/coco-2017/raw/instances_train2017.json'\n",
            "Downloading 2000 images\n",
            " 100% |████████████████| 2000/2000 [1.4m elapsed, 0s remaining, 22.0 images/s]      \n",
            "Writing annotations for 2000 downloaded samples to '/root/fiftyone/coco-2017/train/labels.json'\n",
            "Dataset info written to '/root/fiftyone/coco-2017/info.json'\n",
            "Loading 'coco-2017' split 'train'\n",
            " 100% |███████████████| 2000/2000 [1.4m elapsed, 0s remaining, 26.5 samples/s]      \n",
            "Dataset 'coco-2017-train-2000' created\n"
          ]
        }
      ]
    },
    {
      "cell_type": "code",
      "metadata": {
        "id": "uC97WRyaYoJP"
      },
      "source": [
        "!zip -r /root/fiftyone/coco-2017/train/bowl.zip /root/fiftyone/coco-2017/train/data\n"
      ],
      "execution_count": null,
      "outputs": []
    },
    {
      "cell_type": "code",
      "metadata": {
        "id": "7aS_aiGOXeVV"
      },
      "source": [
        "from google.colab import files\n",
        "files.download(\"bowl.zip\")"
      ],
      "execution_count": null,
      "outputs": []
    },
    {
      "cell_type": "code",
      "metadata": {
        "colab": {
          "base_uri": "https://localhost:8080/"
        },
        "id": "OyRpO5XWatZD",
        "outputId": "20b7c2f1-7524-4df8-d93f-36f654c940bf"
      },
      "source": [
        "#Dwnload the COCO dataset for the \"teddy bear\" class\n",
        "#Train set\n",
        "dataset_tb = foz.load_zoo_dataset(\n",
        "    \"coco-2017\",\n",
        "    split=\"train\",\n",
        "    label_types=[\"detections\", \"segmentations\"],\n",
        "    classes=[\"teddy bear\"],\n",
        "    max_samples=2000,\n",
        ")"
      ],
      "execution_count": null,
      "outputs": [
        {
          "output_type": "stream",
          "name": "stdout",
          "text": [
            "Downloading split 'train' to '/root/fiftyone/coco-2017/train' if necessary\n",
            "Found annotations at '/root/fiftyone/coco-2017/raw/instances_train2017.json'\n",
            "487 images found; downloading the remaining 1513\n",
            " 100% |████████████████| 1513/1513 [4.7m elapsed, 0s remaining, 5.2 images/s]       \n",
            "Writing annotations for 2000 downloaded samples to '/root/fiftyone/coco-2017/train/labels.json'\n",
            "Dataset info written to '/root/fiftyone/coco-2017/info.json'\n",
            "Loading 'coco-2017' split 'train'\n",
            " 100% |███████████████| 2000/2000 [46.9s elapsed, 0s remaining, 48.6 samples/s]      \n",
            "Dataset 'coco-2017-train-2000' created\n"
          ]
        }
      ]
    },
    {
      "cell_type": "code",
      "metadata": {
        "id": "sP4tsyyaimjW"
      },
      "source": [
        "!zip -r /root/fiftyone/coco-2017/train/teddy_bear_train.zip /root/fiftyone/coco-2017/train/data\n"
      ],
      "execution_count": null,
      "outputs": []
    }
  ]
}