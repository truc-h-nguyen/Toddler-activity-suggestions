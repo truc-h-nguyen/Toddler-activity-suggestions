{
  "nbformat": 4,
  "nbformat_minor": 0,
  "metadata": {
    "colab": {
      "name": "Simple MNIST convnet.ipynb",
      "provenance": [],
      "authorship_tag": "ABX9TyO0Om8Aw5EFX8ByRoiAKx/6",
      "include_colab_link": true
    },
    "kernelspec": {
      "name": "python3",
      "display_name": "Python 3"
    },
    "language_info": {
      "name": "python"
    }
  },
  "cells": [
    {
      "cell_type": "markdown",
      "metadata": {
        "id": "view-in-github",
        "colab_type": "text"
      },
      "source": [
        "<a href=\"https://colab.research.google.com/github/truc-h-nguyen/Toddler-activity-suggestions/blob/main/Simple_MNIST_convnet.ipynb\" target=\"_parent\"><img src=\"https://colab.research.google.com/assets/colab-badge.svg\" alt=\"Open In Colab\"/></a>"
      ]
    },
    {
      "cell_type": "markdown",
      "metadata": {
        "id": "tPqAg0MNCu7j"
      },
      "source": [
        "[Link](https://keras.io/examples/vision/mnist_convnet/)\n",
        "\n",
        "[source code?](https://github.com/keras-team/keras/blob/master/keras/datasets/mnist.py)\n",
        "\n",
        "[Example](https://notebook.community/strikingmoose/chi_lars_face_detection/notebook/3%20-%20TFlearn%20%26%20MNIST)"
      ]
    },
    {
      "cell_type": "code",
      "metadata": {
        "id": "TFNWL3L3Tqcx"
      },
      "source": [
        "#Setup\n",
        "import numpy as np\n",
        "from tensorflow import keras\n",
        "from tensorflow.keras import layers\n",
        "from matplotlib import pyplot as plt"
      ],
      "execution_count": 53,
      "outputs": []
    },
    {
      "cell_type": "code",
      "metadata": {
        "colab": {
          "base_uri": "https://localhost:8080/"
        },
        "id": "xOlPVBznCsbT",
        "outputId": "74a56a14-eb02-4f77-b292-4d9a027b32f4"
      },
      "source": [
        "#Prepare Data\n",
        "# Model / data parameters\n",
        "num_classes = 10\n",
        "input_shape = (28, 28, 1) #every image is represented as a 28 × 28 array ??\n",
        "type(input_shape)"
      ],
      "execution_count": 48,
      "outputs": [
        {
          "output_type": "execute_result",
          "data": {
            "text/plain": [
              "tuple"
            ]
          },
          "metadata": {},
          "execution_count": 48
        }
      ]
    },
    {
      "cell_type": "code",
      "metadata": {
        "colab": {
          "base_uri": "https://localhost:8080/"
        },
        "id": "VJ5dkGjdD4Nh",
        "outputId": "e4edc6ca-d6f8-45bf-fe6e-86a4eb39b61d"
      },
      "source": [
        "# the data, split between train and test sets\n",
        "(x_train, y_train), (x_test, y_test) = keras.datasets.mnist.load_data()\n",
        "print(\"x_test shape:\" , x_test.shape)\n",
        "print(\"x_train shape:\", x_train.shape)"
      ],
      "execution_count": 49,
      "outputs": [
        {
          "output_type": "stream",
          "name": "stdout",
          "text": [
            "x_test shape: (10000, 28, 28)\n",
            "x_train shape: (60000, 28, 28)\n"
          ]
        }
      ]
    },
    {
      "cell_type": "code",
      "metadata": {
        "colab": {
          "base_uri": "https://localhost:8080/",
          "height": 265
        },
        "id": "7fTuC-F3cKA4",
        "outputId": "a6ee8afe-53c0-487a-873c-83eaf62c1041"
      },
      "source": [
        "# Get first image of training set\n",
        "x_first = x_train[0]\n",
        "plt.imshow(x_first, cmap='gray')\n",
        "plt.show()"
      ],
      "execution_count": 54,
      "outputs": [
        {
          "output_type": "display_data",
          "data": {
            "image/png": "[encoded data removed]",
            "text/plain": [
              "<Figure size 432x288 with 1 Axes>"
            ]
          },
          "metadata": {
            "needs_background": "light"
          }
        }
      ]
    },
    {
      "cell_type": "code",
      "metadata": {
        "id": "rJNSEZWQGN48"
      },
      "source": [
        "# Scale images to the [0, 1] range\n",
        "x_train = x_train.astype(\"float32\") / 255 #the pixel intensities are represented as floats from 0.0 to 255.0 => so we divide by 255\n",
        "x_test = x_test.astype(\"float32\") / 255"
      ],
      "execution_count": 43,
      "outputs": []
    },
    {
      "cell_type": "code",
      "metadata": {
        "id": "MEAqFkN3RJc7"
      },
      "source": [
        "# Make sure images have shape (28, 28, 1)\n",
        "x_train = np.expand_dims(x_train, -1) #the new axis will be placed at index = -1 of the NEW shape\n",
        "x_test = np.expand_dims(x_test, -1)\n",
        "print(\"x_train shape:\", x_train.shape)\n",
        "#number of samples in train and test set\n",
        "print(x_train.shape[0], \"train samples\")\n",
        "print(x_test.shape[0], \"test samples\")\n",
        "# Get first image of training set\n",
        "???"
      ],
      "execution_count": null,
      "outputs": []
    },
    {
      "cell_type": "code",
      "metadata": {
        "id": "fcIjO1gjZ7FB"
      },
      "source": [
        "# convert class vectors to binary class matrices\n",
        "y_train = keras.utils.to_categorical(y_train, num_classes)\n",
        "y_test = keras.utils.to_categorical(y_test, num_classes)"
      ],
      "execution_count": null,
      "outputs": []
    },
    {
      "cell_type": "code",
      "metadata": {
        "colab": {
          "base_uri": "https://localhost:8080/"
        },
        "id": "K7JaUzTwZ9X1",
        "outputId": "32b45e90-e113-4b08-91b5-76c65480ca3d"
      },
      "source": [
        "#build a model\n",
        "model = keras.Sequential(\n",
        "    [\n",
        "        keras.Input(shape=input_shape),\n",
        "        layers.Conv2D(32, kernel_size=(3, 3), activation=\"relu\"),\n",
        "        layers.MaxPooling2D(pool_size=(2, 2)),\n",
        "        layers.Conv2D(64, kernel_size=(3, 3), activation=\"relu\"),\n",
        "        layers.MaxPooling2D(pool_size=(2, 2)),\n",
        "        layers.Flatten(),\n",
        "        layers.Dropout(0.5),\n",
        "        layers.Dense(num_classes, activation=\"softmax\"),\n",
        "    ]\n",
        ")\n",
        "\n",
        "model.summary()"
      ],
      "execution_count": null,
      "outputs": [
        {
          "output_type": "stream",
          "name": "stdout",
          "text": [
            "Model: \"sequential\"\n",
            "_________________________________________________________________\n",
            "Layer (type)                 Output Shape              Param #   \n",
            "=================================================================\n",
            "conv2d (Conv2D)              (None, 26, 26, 32)        320       \n",
            "_________________________________________________________________\n",
            "max_pooling2d (MaxPooling2D) (None, 13, 13, 32)        0         \n",
            "_________________________________________________________________\n",
            "conv2d_1 (Conv2D)            (None, 11, 11, 64)        18496     \n",
            "_________________________________________________________________\n",
            "max_pooling2d_1 (MaxPooling2 (None, 5, 5, 64)          0         \n",
            "_________________________________________________________________\n",
            "flatten (Flatten)            (None, 1600)              0         \n",
            "_________________________________________________________________\n",
            "dropout (Dropout)            (None, 1600)              0         \n",
            "_________________________________________________________________\n",
            "dense (Dense)                (None, 10)                16010     \n",
            "=================================================================\n",
            "Total params: 34,826\n",
            "Trainable params: 34,826\n",
            "Non-trainable params: 0\n",
            "_________________________________________________________________\n"
          ]
        }
      ]
    },
    {
      "cell_type": "code",
      "metadata": {
        "colab": {
          "base_uri": "https://localhost:8080/"
        },
        "id": "0B3XEsNEaIpw",
        "outputId": "2066e078-86e7-4509-9516-b451300bfe2f"
      },
      "source": [
        "#train a model\n",
        "batch_size = 128\n",
        "epochs = 15\n",
        "\n",
        "model.compile(loss=\"categorical_crossentropy\", optimizer=\"adam\", metrics=[\"accuracy\"])\n",
        "\n",
        "model.fit(x_train, y_train, batch_size=batch_size, epochs=epochs, validation_split=0.1)\n"
      ],
      "execution_count": null,
      "outputs": [
        {
          "output_type": "stream",
          "name": "stdout",
          "text": [
            "Epoch 1/15\n",
            "422/422 [==============================] - 41s 96ms/step - loss: 0.3624 - accuracy: 0.8905 - val_loss: 0.0806 - val_accuracy: 0.9790\n",
            "Epoch 2/15\n",
            "422/422 [==============================] - 40s 95ms/step - loss: 0.1121 - accuracy: 0.9663 - val_loss: 0.0562 - val_accuracy: 0.9842\n",
            "Epoch 3/15\n",
            "422/422 [==============================] - 41s 96ms/step - loss: 0.0854 - accuracy: 0.9726 - val_loss: 0.0445 - val_accuracy: 0.9877\n",
            "Epoch 4/15\n",
            "422/422 [==============================] - 40s 95ms/step - loss: 0.0710 - accuracy: 0.9777 - val_loss: 0.0433 - val_accuracy: 0.9877\n",
            "Epoch 5/15\n",
            "422/422 [==============================] - 40s 95ms/step - loss: 0.0631 - accuracy: 0.9804 - val_loss: 0.0390 - val_accuracy: 0.9888\n",
            "Epoch 6/15\n",
            "422/422 [==============================] - 40s 95ms/step - loss: 0.0564 - accuracy: 0.9828 - val_loss: 0.0368 - val_accuracy: 0.9895\n",
            "Epoch 7/15\n",
            "422/422 [==============================] - 40s 95ms/step - loss: 0.0523 - accuracy: 0.9834 - val_loss: 0.0350 - val_accuracy: 0.9908\n",
            "Epoch 8/15\n",
            "422/422 [==============================] - 40s 95ms/step - loss: 0.0494 - accuracy: 0.9846 - val_loss: 0.0308 - val_accuracy: 0.9915\n",
            "Epoch 9/15\n",
            "422/422 [==============================] - 40s 95ms/step - loss: 0.0439 - accuracy: 0.9862 - val_loss: 0.0366 - val_accuracy: 0.9880\n",
            "Epoch 10/15\n",
            "422/422 [==============================] - 40s 95ms/step - loss: 0.0432 - accuracy: 0.9866 - val_loss: 0.0332 - val_accuracy: 0.9912\n",
            "Epoch 11/15\n",
            "422/422 [==============================] - 40s 95ms/step - loss: 0.0391 - accuracy: 0.9878 - val_loss: 0.0320 - val_accuracy: 0.9908\n",
            "Epoch 12/15\n",
            "422/422 [==============================] - 40s 95ms/step - loss: 0.0386 - accuracy: 0.9877 - val_loss: 0.0315 - val_accuracy: 0.9905\n",
            "Epoch 13/15\n",
            "422/422 [==============================] - 40s 96ms/step - loss: 0.0376 - accuracy: 0.9875 - val_loss: 0.0313 - val_accuracy: 0.9903\n",
            "Epoch 14/15\n",
            "422/422 [==============================] - 40s 95ms/step - loss: 0.0341 - accuracy: 0.9893 - val_loss: 0.0307 - val_accuracy: 0.9923\n",
            "Epoch 15/15\n",
            "422/422 [==============================] - 40s 95ms/step - loss: 0.0327 - accuracy: 0.9892 - val_loss: 0.0310 - val_accuracy: 0.9918\n"
          ]
        },
        {
          "output_type": "execute_result",
          "data": {
            "text/plain": [
              "<keras.callbacks.History at 0x7f73a1da7ad0>"
            ]
          },
          "metadata": {},
          "execution_count": 14
        }
      ]
    },
    {
      "cell_type": "markdown",
      "metadata": {
        "id": "f8OSgSrfnGLB"
      },
      "source": [
        "\n"
      ]
    },
    {
      "cell_type": "code",
      "metadata": {
        "colab": {
          "base_uri": "https://localhost:8080/"
        },
        "id": "VrNKaAbsaNmd",
        "outputId": "6e396ac6-4d32-4a36-c68d-460edacfb53a"
      },
      "source": [
        "#Evaluate the trained model\n",
        "score = model.evaluate(x_test, y_test, verbose=0)\n",
        "print(\"Test loss:\", score[0])\n",
        "print(\"Test accuracy:\", score[1])\n"
      ],
      "execution_count": null,
      "outputs": [
        {
          "output_type": "stream",
          "name": "stdout",
          "text": [
            "Test loss: 0.022701293230056763\n",
            "Test accuracy: 0.991100013256073\n"
          ]
        }
      ]
    },
    {
      "cell_type": "markdown",
      "metadata": {
        "id": "BlfSQO-yoW7t"
      },
      "source": [
        "Check if we have the model is overfitting the training set??"
      ]
    }
  ]
}